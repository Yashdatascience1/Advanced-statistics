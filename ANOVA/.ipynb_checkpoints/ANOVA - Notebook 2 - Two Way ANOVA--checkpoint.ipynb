{
 "cells": [
  {
   "cell_type": "markdown",
   "metadata": {},
   "source": [
    "# Let us now see how to perform a Two Way ANOVA. "
   ]
  },
  {
   "cell_type": "markdown",
   "metadata": {},
   "source": [
    "### The following is the description of the dataset that we are going to use for Two Way ANOVA."
   ]
  },
  {
   "cell_type": "markdown",
   "metadata": {},
   "source": [
    "### Problem Statement:\n",
    "\n",
    "The dose for effective dialysis depends on duration of treatment and weight gain between treatments. To study the effects of these two factors on the number of days hospitalized attributable to kidney failure, a random sample of 10 patients per group undergone treatment in a large dialysis facility was obtained. Treatment duration was a two levels: short and long. Average weight gain between treatments during the year was categorized into three levels: mild, moderate and severe."
   ]
  },
  {
   "cell_type": "code",
   "execution_count": 4,
   "metadata": {
    "ExecuteTime": {
     "end_time": "2020-05-11T12:38:58.371363Z",
     "start_time": "2020-05-11T12:38:58.335459Z"
    }
   },
   "outputs": [],
   "source": [
    "import numpy as np\n",
    "import pandas as pd\n",
    "import seaborn as sns\n",
    "from statsmodels.formula.api import ols      # For n-way ANOVA\n",
    "from statsmodels.stats.anova import _get_covariance,anova_lm # For n-way ANOVA\n",
    "\n",
    "%matplotlib inline "
   ]
  },
  {
   "cell_type": "code",
   "execution_count": 5,
   "metadata": {
    "ExecuteTime": {
     "end_time": "2020-05-11T12:38:58.508708Z",
     "start_time": "2020-05-11T12:38:58.374356Z"
    }
   },
   "outputs": [],
   "source": [
    "df = pd.read_csv('D:\\\\Academic Operations\\\\DSBA - Python\\\\Blended\\\\Advanced Statistics\\\\Course Package\\\\Codes + Datasets\\\\Dialysis.csv')"
   ]
  },
  {
   "cell_type": "code",
   "execution_count": 6,
   "metadata": {
    "ExecuteTime": {
     "end_time": "2020-05-11T12:38:58.683241Z",
     "start_time": "2020-05-11T12:38:58.511701Z"
    }
   },
   "outputs": [
    {
     "data": {
      "text/html": [
       "<div>\n",
       "<style scoped>\n",
       "    .dataframe tbody tr th:only-of-type {\n",
       "        vertical-align: middle;\n",
       "    }\n",
       "\n",
       "    .dataframe tbody tr th {\n",
       "        vertical-align: top;\n",
       "    }\n",
       "\n",
       "    .dataframe thead th {\n",
       "        text-align: right;\n",
       "    }\n",
       "</style>\n",
       "<table border=\"1\" class=\"dataframe\">\n",
       "  <thead>\n",
       "    <tr style=\"text-align: right;\">\n",
       "      <th></th>\n",
       "      <th>Duration</th>\n",
       "      <th>Weight_Gain</th>\n",
       "      <th>Patient</th>\n",
       "      <th>Days</th>\n",
       "    </tr>\n",
       "  </thead>\n",
       "  <tbody>\n",
       "    <tr>\n",
       "      <td>0</td>\n",
       "      <td>1</td>\n",
       "      <td>1</td>\n",
       "      <td>1</td>\n",
       "      <td>0</td>\n",
       "    </tr>\n",
       "    <tr>\n",
       "      <td>1</td>\n",
       "      <td>1</td>\n",
       "      <td>1</td>\n",
       "      <td>2</td>\n",
       "      <td>2</td>\n",
       "    </tr>\n",
       "    <tr>\n",
       "      <td>2</td>\n",
       "      <td>1</td>\n",
       "      <td>1</td>\n",
       "      <td>3</td>\n",
       "      <td>1</td>\n",
       "    </tr>\n",
       "    <tr>\n",
       "      <td>3</td>\n",
       "      <td>1</td>\n",
       "      <td>1</td>\n",
       "      <td>4</td>\n",
       "      <td>3</td>\n",
       "    </tr>\n",
       "    <tr>\n",
       "      <td>4</td>\n",
       "      <td>1</td>\n",
       "      <td>1</td>\n",
       "      <td>5</td>\n",
       "      <td>0</td>\n",
       "    </tr>\n",
       "  </tbody>\n",
       "</table>\n",
       "</div>"
      ],
      "text/plain": [
       "   Duration  Weight_Gain  Patient  Days\n",
       "0         1            1        1     0\n",
       "1         1            1        2     2\n",
       "2         1            1        3     1\n",
       "3         1            1        4     3\n",
       "4         1            1        5     0"
      ]
     },
     "execution_count": 6,
     "metadata": {},
     "output_type": "execute_result"
    }
   ],
   "source": [
    "df.head()"
   ]
  },
  {
   "cell_type": "code",
   "execution_count": 7,
   "metadata": {
    "ExecuteTime": {
     "end_time": "2020-05-11T12:38:58.940040Z",
     "start_time": "2020-05-11T12:38:58.686234Z"
    }
   },
   "outputs": [
    {
     "data": {
      "text/html": [
       "<div>\n",
       "<style scoped>\n",
       "    .dataframe tbody tr th:only-of-type {\n",
       "        vertical-align: middle;\n",
       "    }\n",
       "\n",
       "    .dataframe tbody tr th {\n",
       "        vertical-align: top;\n",
       "    }\n",
       "\n",
       "    .dataframe thead th {\n",
       "        text-align: right;\n",
       "    }\n",
       "</style>\n",
       "<table border=\"1\" class=\"dataframe\">\n",
       "  <thead>\n",
       "    <tr style=\"text-align: right;\">\n",
       "      <th></th>\n",
       "      <th>Duration</th>\n",
       "      <th>Weight_Gain</th>\n",
       "      <th>Patient</th>\n",
       "      <th>Days</th>\n",
       "    </tr>\n",
       "  </thead>\n",
       "  <tbody>\n",
       "    <tr>\n",
       "      <td>count</td>\n",
       "      <td>60.000000</td>\n",
       "      <td>60.000000</td>\n",
       "      <td>60.00000</td>\n",
       "      <td>60.000000</td>\n",
       "    </tr>\n",
       "    <tr>\n",
       "      <td>mean</td>\n",
       "      <td>1.500000</td>\n",
       "      <td>2.000000</td>\n",
       "      <td>5.50000</td>\n",
       "      <td>6.333333</td>\n",
       "    </tr>\n",
       "    <tr>\n",
       "      <td>std</td>\n",
       "      <td>0.504219</td>\n",
       "      <td>0.823387</td>\n",
       "      <td>2.89652</td>\n",
       "      <td>6.693449</td>\n",
       "    </tr>\n",
       "    <tr>\n",
       "      <td>min</td>\n",
       "      <td>1.000000</td>\n",
       "      <td>1.000000</td>\n",
       "      <td>1.00000</td>\n",
       "      <td>0.000000</td>\n",
       "    </tr>\n",
       "    <tr>\n",
       "      <td>25%</td>\n",
       "      <td>1.000000</td>\n",
       "      <td>1.000000</td>\n",
       "      <td>3.00000</td>\n",
       "      <td>2.000000</td>\n",
       "    </tr>\n",
       "    <tr>\n",
       "      <td>50%</td>\n",
       "      <td>1.500000</td>\n",
       "      <td>2.000000</td>\n",
       "      <td>5.50000</td>\n",
       "      <td>4.000000</td>\n",
       "    </tr>\n",
       "    <tr>\n",
       "      <td>75%</td>\n",
       "      <td>2.000000</td>\n",
       "      <td>3.000000</td>\n",
       "      <td>8.00000</td>\n",
       "      <td>8.000000</td>\n",
       "    </tr>\n",
       "    <tr>\n",
       "      <td>max</td>\n",
       "      <td>2.000000</td>\n",
       "      <td>3.000000</td>\n",
       "      <td>10.00000</td>\n",
       "      <td>30.000000</td>\n",
       "    </tr>\n",
       "  </tbody>\n",
       "</table>\n",
       "</div>"
      ],
      "text/plain": [
       "        Duration  Weight_Gain   Patient       Days\n",
       "count  60.000000    60.000000  60.00000  60.000000\n",
       "mean    1.500000     2.000000   5.50000   6.333333\n",
       "std     0.504219     0.823387   2.89652   6.693449\n",
       "min     1.000000     1.000000   1.00000   0.000000\n",
       "25%     1.000000     1.000000   3.00000   2.000000\n",
       "50%     1.500000     2.000000   5.50000   4.000000\n",
       "75%     2.000000     3.000000   8.00000   8.000000\n",
       "max     2.000000     3.000000  10.00000  30.000000"
      ]
     },
     "execution_count": 7,
     "metadata": {},
     "output_type": "execute_result"
    }
   ],
   "source": [
    "df.describe()"
   ]
  },
  {
   "cell_type": "code",
   "execution_count": 8,
   "metadata": {
    "ExecuteTime": {
     "end_time": "2020-05-11T12:38:59.059721Z",
     "start_time": "2020-05-11T12:38:58.944030Z"
    }
   },
   "outputs": [
    {
     "name": "stdout",
     "output_type": "stream",
     "text": [
      "<class 'pandas.core.frame.DataFrame'>\n",
      "RangeIndex: 60 entries, 0 to 59\n",
      "Data columns (total 4 columns):\n",
      "Duration       60 non-null int64\n",
      "Weight_Gain    60 non-null int64\n",
      "Patient        60 non-null int64\n",
      "Days           60 non-null int64\n",
      "dtypes: int64(4)\n",
      "memory usage: 2.0 KB\n"
     ]
    }
   ],
   "source": [
    "df.info()"
   ]
  },
  {
   "cell_type": "markdown",
   "metadata": {},
   "source": [
    "Now, let us go ahead and perform one way ANOVA with 'Weight Gain' with respect to 'Days'."
   ]
  },
  {
   "cell_type": "code",
   "execution_count": 9,
   "metadata": {
    "ExecuteTime": {
     "end_time": "2020-05-11T12:38:59.177379Z",
     "start_time": "2020-05-11T12:38:59.063710Z"
    }
   },
   "outputs": [],
   "source": [
    "df['Weight_Gain']= pd.Categorical(df['Weight_Gain'])"
   ]
  },
  {
   "cell_type": "code",
   "execution_count": 10,
   "metadata": {
    "ExecuteTime": {
     "end_time": "2020-05-11T12:38:59.314015Z",
     "start_time": "2020-05-11T12:38:59.181367Z"
    }
   },
   "outputs": [
    {
     "name": "stdout",
     "output_type": "stream",
     "text": [
      "<class 'pandas.core.frame.DataFrame'>\n",
      "RangeIndex: 60 entries, 0 to 59\n",
      "Data columns (total 4 columns):\n",
      "Duration       60 non-null int64\n",
      "Weight_Gain    60 non-null category\n",
      "Patient        60 non-null int64\n",
      "Days           60 non-null int64\n",
      "dtypes: category(1), int64(3)\n",
      "memory usage: 1.7 KB\n"
     ]
    }
   ],
   "source": [
    "df.info()"
   ]
  },
  {
   "cell_type": "markdown",
   "metadata": {},
   "source": [
    "Now, we notice that the data type of the variable 'Weight Gain' has been changed."
   ]
  },
  {
   "cell_type": "code",
   "execution_count": 11,
   "metadata": {
    "ExecuteTime": {
     "end_time": "2020-05-11T12:38:59.434688Z",
     "start_time": "2020-05-11T12:38:59.319002Z"
    }
   },
   "outputs": [
    {
     "data": {
      "text/plain": [
       "<bound method IndexOpsMixin.value_counts of 0     1\n",
       "1     1\n",
       "2     1\n",
       "3     1\n",
       "4     1\n",
       "5     1\n",
       "6     1\n",
       "7     1\n",
       "8     1\n",
       "9     1\n",
       "10    2\n",
       "11    2\n",
       "12    2\n",
       "13    2\n",
       "14    2\n",
       "15    2\n",
       "16    2\n",
       "17    2\n",
       "18    2\n",
       "19    2\n",
       "20    3\n",
       "21    3\n",
       "22    3\n",
       "23    3\n",
       "24    3\n",
       "25    3\n",
       "26    3\n",
       "27    3\n",
       "28    3\n",
       "29    3\n",
       "30    1\n",
       "31    1\n",
       "32    1\n",
       "33    1\n",
       "34    1\n",
       "35    1\n",
       "36    1\n",
       "37    1\n",
       "38    1\n",
       "39    1\n",
       "40    2\n",
       "41    2\n",
       "42    2\n",
       "43    2\n",
       "44    2\n",
       "45    2\n",
       "46    2\n",
       "47    2\n",
       "48    2\n",
       "49    2\n",
       "50    3\n",
       "51    3\n",
       "52    3\n",
       "53    3\n",
       "54    3\n",
       "55    3\n",
       "56    3\n",
       "57    3\n",
       "58    3\n",
       "59    3\n",
       "Name: Weight_Gain, dtype: category\n",
       "Categories (3, int64): [1, 2, 3]>"
      ]
     },
     "execution_count": 11,
     "metadata": {},
     "output_type": "execute_result"
    }
   ],
   "source": [
    "df['Weight_Gain'].value_counts"
   ]
  },
  {
   "cell_type": "markdown",
   "metadata": {},
   "source": [
    "## The Hypothesis for the One Way ANOVA are:\n",
    "    \n",
    "## $H_0$: $All\\,the\\, population\\, means\\,of\\,the\\,samples\\,under\\,consideration\\, are\\, equal.$\n",
    "## $H_a$: $At \\,least\\,one\\,of\\,the\\, population\\, means\\,of \\,the\\,samples\\,under\\,consideration\\, are\\, unequal.$\n"
   ]
  },
  {
   "cell_type": "code",
   "execution_count": 12,
   "metadata": {
    "ExecuteTime": {
     "end_time": "2020-05-11T12:38:59.583290Z",
     "start_time": "2020-05-11T12:38:59.437683Z"
    }
   },
   "outputs": [
    {
     "name": "stdout",
     "output_type": "stream",
     "text": [
      "                  df       sum_sq     mean_sq          F    PR(>F)\n",
      "C(Weight_Gain)   2.0   760.433333  380.216667  11.510091  0.000063\n",
      "Residual        57.0  1882.900000   33.033333        NaN       NaN\n"
     ]
    }
   ],
   "source": [
    "formula = 'Days ~ C(Weight_Gain)'\n",
    "model = ols(formula, df).fit()\n",
    "aov_table = anova_lm(model)\n",
    "print(aov_table)"
   ]
  },
  {
   "cell_type": "markdown",
   "metadata": {},
   "source": [
    "Now, we see that the corresponding p-value is less than alpha (0.05). Thus, we $\\textbf{fail to Accept}$ accept the $\\textbf{Null Hypothesis}$ ($H_0$).\n",
    "This means at least one particular category in the 'Weight_Gain' variable has different mean of 'Days' as compared to the other categories."
   ]
  },
  {
   "cell_type": "markdown",
   "metadata": {},
   "source": [
    "Let us now perform One Way ANOVA with the variable 'Duration' with respect to 'Days'."
   ]
  },
  {
   "cell_type": "code",
   "execution_count": 13,
   "metadata": {
    "ExecuteTime": {
     "end_time": "2020-05-11T12:38:59.685018Z",
     "start_time": "2020-05-11T12:38:59.585288Z"
    }
   },
   "outputs": [],
   "source": [
    "df['Duration']= pd.Categorical(df['Duration'])"
   ]
  },
  {
   "cell_type": "code",
   "execution_count": 14,
   "metadata": {
    "ExecuteTime": {
     "end_time": "2020-05-11T12:38:59.866533Z",
     "start_time": "2020-05-11T12:38:59.687013Z"
    }
   },
   "outputs": [
    {
     "name": "stdout",
     "output_type": "stream",
     "text": [
      "               df       sum_sq     mean_sq         F  PR(>F)\n",
      "C(Duration)   1.0   209.066667  209.066667  4.981322  0.0295\n",
      "Residual     58.0  2434.266667   41.970115       NaN     NaN\n"
     ]
    }
   ],
   "source": [
    "formula = 'Days ~ C(Duration)'\n",
    "model = ols(formula, df).fit()\n",
    "aov_table = anova_lm(model)\n",
    "print(aov_table)"
   ]
  },
  {
   "cell_type": "markdown",
   "metadata": {},
   "source": [
    "Now, we see that the corresponding p-value is less than alpha (0.05). Thus, we $\\textbf{fail to Accept}$ accept the $\\textbf{Null Hypothesis}$ ($H_0$).\n",
    "This means at least one particular category in the 'Duration' variable has different mean of 'Days' as compared to the other categories."
   ]
  },
  {
   "cell_type": "markdown",
   "metadata": {},
   "source": [
    "Here, since we have two categories in the 'Duration' variable we can easily say that the means of this two categories with respect to the variable 'Days' is different."
   ]
  },
  {
   "cell_type": "markdown",
   "metadata": {},
   "source": [
    "Let us now perform the Two Way ANOVA. We will now analyse the effect of both the treatments on the 'Days' variable."
   ]
  },
  {
   "cell_type": "code",
   "execution_count": 15,
   "metadata": {
    "ExecuteTime": {
     "end_time": "2020-05-11T12:39:00.013177Z",
     "start_time": "2020-05-11T12:38:59.868528Z"
    }
   },
   "outputs": [
    {
     "name": "stdout",
     "output_type": "stream",
     "text": [
      "                  df       sum_sq     mean_sq          F    PR(>F)\n",
      "C(Weight_Gain)   2.0   760.433333  380.216667  12.720581  0.000028\n",
      "C(Duration)      1.0   209.066667  209.066667   6.994563  0.010589\n",
      "Residual        56.0  1673.833333   29.889881        NaN       NaN\n"
     ]
    }
   ],
   "source": [
    "formula = 'Days ~ C(Weight_Gain) + C(Duration)'\n",
    "model = ols(formula, df).fit()\n",
    "aov_table = anova_lm(model)\n",
    "print(aov_table)"
   ]
  },
  {
   "cell_type": "markdown",
   "metadata": {},
   "source": [
    "The p-value in the both the treatments is less than $\\alpha$(0.05) and thus we will reject the Null Hypothesis."
   ]
  },
  {
   "cell_type": "markdown",
   "metadata": {},
   "source": [
    "Let us check whether there is any interaction effect between the treatments."
   ]
  },
  {
   "cell_type": "code",
   "execution_count": 20,
   "metadata": {
    "ExecuteTime": {
     "end_time": "2020-05-11T12:39:09.005576Z",
     "start_time": "2020-05-11T12:39:08.518556Z"
    }
   },
   "outputs": [
    {
     "data": {
      "image/png": "[encoded data removed]",
      "text/plain": [
       "<Figure size 432x288 with 1 Axes>"
      ]
     },
     "metadata": {
      "needs_background": "light"
     },
     "output_type": "display_data"
    }
   ],
   "source": [
    "sns.pointplot(x='Weight_Gain', y='Days', data=df, hue='Duration');"
   ]
  },
  {
   "cell_type": "markdown",
   "metadata": {},
   "source": [
    "Now, let us plot the graph for interaction effect without the confidence intervals."
   ]
  },
  {
   "cell_type": "code",
   "execution_count": 19,
   "metadata": {
    "ExecuteTime": {
     "end_time": "2020-05-11T12:39:04.888946Z",
     "start_time": "2020-05-11T12:39:04.704533Z"
    }
   },
   "outputs": [
    {
     "data": {
      "image/png": "[encoded data removed]",
      "text/plain": [
       "<Figure size 432x288 with 1 Axes>"
      ]
     },
     "metadata": {
      "needs_background": "light"
     },
     "output_type": "display_data"
    }
   ],
   "source": [
    "sns.pointplot(x='Weight_Gain', y='Days', data=df, hue='Duration',ci=None);"
   ]
  },
  {
   "cell_type": "code",
   "execution_count": 23,
   "metadata": {
    "ExecuteTime": {
     "end_time": "2020-05-11T12:40:59.480423Z",
     "start_time": "2020-05-11T12:40:59.169253Z"
    }
   },
   "outputs": [
    {
     "data": {
      "image/png": "[encoded data removed]",
      "text/plain": [
       "<Figure size 432x288 with 1 Axes>"
      ]
     },
     "metadata": {
      "needs_background": "light"
     },
     "output_type": "display_data"
    }
   ],
   "source": [
    "#Method 2 of drawing an interaction plot\n",
    "\n",
    "from statsmodels.graphics.factorplots import interaction_plot\n",
    "interaction_plot(x=df['Weight_Gain'],trace=df['Duration'],response=df['Days'],markers=['D','^']);"
   ]
  },
  {
   "cell_type": "markdown",
   "metadata": {},
   "source": [
    "Still, we can see that there is some sort of interaction between the two treatments. So, we will introduce a new term while performing the Two Way ANOVA."
   ]
  },
  {
   "cell_type": "code",
   "execution_count": 18,
   "metadata": {
    "ExecuteTime": {
     "end_time": "2020-05-11T12:39:01.674323Z",
     "start_time": "2020-05-11T12:39:01.641151Z"
    }
   },
   "outputs": [
    {
     "name": "stdout",
     "output_type": "stream",
     "text": [
      "                              df       sum_sq     mean_sq          F    PR(>F)\n",
      "C(Weight_Gain)               2.0   760.433333  380.216667  13.120974  0.000023\n",
      "C(Duration)                  1.0   209.066667  209.066667   7.214724  0.009587\n",
      "C(Weight_Gain):C(Duration)   2.0   109.033333   54.516667   1.881327  0.162240\n",
      "Residual                    54.0  1564.800000   28.977778        NaN       NaN\n"
     ]
    }
   ],
   "source": [
    "formula = 'Days ~ C(Weight_Gain) + C(Duration) + C(Weight_Gain):C(Duration)'\n",
    "model = ols(formula, df).fit()\n",
    "aov_table = anova_lm(model)\n",
    "print(aov_table)"
   ]
  },
  {
   "cell_type": "markdown",
   "metadata": {},
   "source": [
    "Due to the inclusion of the interaction effect term, we can see a slight change in the p-value of the first two treatments as compared to the Two-Way ANOVA without the interaction effect terms.\n",
    "But we see that the p-value of the interaction effect term of 'Weight_Gain' and 'Duration' suggests that the Null Hypothesis is true in this case."
   ]
  },
  {
   "cell_type": "code",
   "execution_count": null,
   "metadata": {},
   "outputs": [],
   "source": []
  }
 ],
 "metadata": {
  "kernelspec": {
   "display_name": "Python 3",
   "language": "python",
   "name": "python3"
  },
  "language_info": {
   "codemirror_mode": {
    "name": "ipython",
    "version": 3
   },
   "file_extension": ".py",
   "mimetype": "text/x-python",
   "name": "python",
   "nbconvert_exporter": "python",
   "pygments_lexer": "ipython3",
   "version": "3.8.3"
  },
  "toc": {
   "base_numbering": 1,
   "nav_menu": {},
   "number_sections": true,
   "sideBar": true,
   "skip_h1_title": false,
   "title_cell": "Table of Contents",
   "title_sidebar": "Contents",
   "toc_cell": false,
   "toc_position": {},
   "toc_section_display": true,
   "toc_window_display": false
  },
  "varInspector": {
   "cols": {
    "lenName": 16,
    "lenType": 16,
    "lenVar": 40
   },
   "kernels_config": {
    "python": {
     "delete_cmd_postfix": "",
     "delete_cmd_prefix": "del ",
     "library": "var_list.py",
     "varRefreshCmd": "print(var_dic_list())"
    },
    "r": {
     "delete_cmd_postfix": ") ",
     "delete_cmd_prefix": "rm(",
     "library": "var_list.r",
     "varRefreshCmd": "cat(var_dic_list()) "
    }
   },
   "types_to_exclude": [
    "module",
    "function",
    "builtin_function_or_method",
    "instance",
    "_Feature"
   ],
   "window_display": false
  }
 },
 "nbformat": 4,
 "nbformat_minor": 2
}
